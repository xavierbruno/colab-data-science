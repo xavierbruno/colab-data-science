{
  "nbformat": 4,
  "nbformat_minor": 0,
  "metadata": {
    "colab": {
      "provenance": [],
      "authorship_tag": "ABX9TyOt/SWgd4I/2qeRAmNHKVB/",
      "include_colab_link": true
    },
    "kernelspec": {
      "name": "python3",
      "display_name": "Python 3"
    },
    "language_info": {
      "name": "python"
    }
  },
  "cells": [
    {
      "cell_type": "markdown",
      "metadata": {
        "id": "view-in-github",
        "colab_type": "text"
      },
      "source": [
        "<a href=\"https://colab.research.google.com/github/xavierbruno/python-data-science/blob/master/numpy.ipynb\" target=\"_parent\"><img src=\"https://colab.research.google.com/assets/colab-badge.svg\" alt=\"Open In Colab\"/></a>"
      ]
    },
    {
      "cell_type": "markdown",
      "source": [
        "Vantagens Numpy"
      ],
      "metadata": {
        "id": "JmNtGdcQe-Th"
      }
    },
    {
      "cell_type": "code",
      "source": [
        "import numpy as np\n",
        "import time\n",
        "\n",
        "# cria uma lista com 1000000 elementos\n",
        "lista = list(range(1000000))\n",
        "\n",
        "# transforma a lista em um array Numpy\n",
        "array = np.array(lista)\n",
        "\n",
        "# começa a cronometrar o tempo para a operação com a lista\n",
        "start_time = time.time()\n",
        "\n",
        "# realiza a operação de elevar ao quadrado cada elemento da lista\n",
        "lista_quadrado = [i**2 for i in lista]\n",
        "\n",
        "# para o cronômetro\n",
        "list_time = time.time() - start_time\n",
        "\n",
        "# começa a cronometrar o tempo para a operação com o array\n",
        "start_time = time.time()\n",
        "\n",
        "# realiza a operação de elevar ao quadrado cada elemento do array\n",
        "array_quadrado = array**2\n",
        "\n",
        "# para o cronômetro\n",
        "array_time = time.time() - start_time\n",
        "\n",
        "print(\"Tempo da operação com a lista: \", list_time)\n",
        "print(\"Tempo da operação com o array: \", array_time)"
      ],
      "metadata": {
        "colab": {
          "base_uri": "https://localhost:8080/"
        },
        "id": "h-JlR6N_e3VR",
        "outputId": "60972562-17ce-4f1a-c4a4-79faae5d28f2"
      },
      "execution_count": 2,
      "outputs": [
        {
          "output_type": "stream",
          "name": "stdout",
          "text": [
            "Tempo da operação com a lista:  0.12510943412780762\n",
            "Tempo da operação com o array:  0.004471778869628906\n"
          ]
        }
      ]
    },
    {
      "cell_type": "markdown",
      "source": [
        "Visualização dos dados"
      ],
      "metadata": {
        "id": "asojUtd_fDSg"
      }
    },
    {
      "cell_type": "code",
      "source": [
        "url = 'https://raw.githubusercontent.com/xavierbruno/python-data-science/refs/heads/master/apples_ts.csv'"
      ],
      "metadata": {
        "id": "vsqszKK55nA_"
      },
      "execution_count": 3,
      "outputs": []
    },
    {
      "cell_type": "code",
      "source": [
        "dado = np.loadtxt(url, delimiter=',', usecols=np.arange(1,88,1))"
      ],
      "metadata": {
        "id": "ygFQauzt7P8Y"
      },
      "execution_count": 4,
      "outputs": []
    },
    {
      "cell_type": "code",
      "source": [
        "dado"
      ],
      "metadata": {
        "colab": {
          "base_uri": "https://localhost:8080/"
        },
        "id": "r1blquC67eE8",
        "outputId": "0118c3ad-e2fc-48f7-a493-051d22b54f7d"
      },
      "execution_count": 5,
      "outputs": [
        {
          "output_type": "execute_result",
          "data": {
            "text/plain": [
              "array([[  1.2013,   2.2013,   3.2013,   4.2013,   5.2013,   6.2013,\n",
              "          7.2013,   8.2013,   9.2013,  10.2013,  11.2013,  12.2013,\n",
              "          1.2014,   2.2014,   3.2014,   4.2014,   5.2014,   6.2014,\n",
              "          7.2014,   8.2014,   9.2014,  10.2014,  11.2014,  12.2014,\n",
              "          1.2015,   2.2015,   3.2015,   4.2015,   5.2015,   6.2015,\n",
              "          7.2015,   8.2015,   9.2015,  10.2015,  11.2015,  12.2015,\n",
              "          1.2016,   2.2016,   3.2016,   4.2016,   5.2016,   6.2016,\n",
              "          7.2016,   8.2016,   9.2016,  10.2016,  11.2016,  12.2016,\n",
              "          1.2017,   2.2017,   3.2017,   4.2017,   5.2017,   6.2017,\n",
              "          7.2017,   8.2017,   9.2017,  10.2017,  11.2017,  12.2017,\n",
              "          1.2018,   2.2018,   3.2018,   4.2018,   5.2018,   6.2018,\n",
              "          7.2018,   8.2018,   9.2018,  10.2018,  11.2018,  12.2018,\n",
              "          1.2019,   2.2019,   3.2019,   4.2019,   5.2019,   6.2019,\n",
              "          7.2019,   8.2019,   9.2019,  10.2019,  11.2019,  12.2019,\n",
              "          1.202 ,   2.202 ,   3.202 ],\n",
              "       [ 79.72  ,  81.08  ,  79.68  ,  79.8   ,  80.63  ,  80.8   ,\n",
              "         80.28  ,  78.99  ,  76.77  ,  76.09  ,  76.36  ,  77.16  ,\n",
              "         77.5   ,  79.03  ,  80.28  ,  80.05  ,  78.11  ,  76.9   ,\n",
              "         77.68  ,  76.05  ,  75.53  ,  73.39  ,  78.36  ,  89.16  ,\n",
              "        105.43  , 104.82  , 101.15  ,  98.63  ,  99.96  ,  97.29  ,\n",
              "         98.64  , 104.26  , 102.63  ,  98.64  ,  97.17  ,  98.09  ,\n",
              "        103.07  , 110.26  , 110.84  , 112.28  , 111.1   , 110.06  ,\n",
              "        113.7   , 112.88  , 102.08  ,  95.54  ,  91.33  ,  89.99  ,\n",
              "         91.44  ,  93.51  ,  93.6   ,  93.78  ,  98.91  , 121.76  ,\n",
              "        129.6   , 127.9   , 114.55  , 101.88  ,  99.09  , 103.35  ,\n",
              "        106.58  , 108.    , 114.95  , 121.17  , 122.48  , 127.58  ,\n",
              "        131.89  , 129.36  , 104.26  ,  93.45  ,  92.93  ,  96.15  ,\n",
              "         99.1   , 103.    , 103.31  , 103.01  , 107.37  , 116.91  ,\n",
              "        125.29  , 123.94  , 113.03  , 102.19  ,  97.83  , 101.07  ,\n",
              "        103.44  , 108.23  , 110.28  ],\n",
              "       [ 42.67  ,  44.37  ,  44.73  ,  46.75  ,      nan,  51.59  ,\n",
              "         57.8   ,  62.14  ,  56.76  ,  50.85  ,  46.43  ,  46.73  ,\n",
              "         45.85  ,  49.25  ,  48.14  ,  49.18  ,  49.49  ,  49.83  ,\n",
              "         49.14  ,  63.21  ,  61.2   ,  60.34  ,  62.2   ,  74.2   ,\n",
              "         75.32  ,  75.92  ,  72.89  ,  74.85  ,  92.19  ,  99.7   ,\n",
              "        102.78  ,  92.67  ,  90.63  ,  83.31  ,  75.5   ,  74.6   ,\n",
              "         76.94  ,  83.04  ,  80.74  ,  80.29  ,  82.82  ,  86.29  ,\n",
              "         87.41  ,  85.1   ,  78.08  ,  76.06  ,  69.23  ,  69.04  ,\n",
              "         64.48  ,  65.73  ,  67.2   ,  70.25  ,  82.59  ,  92.12  ,\n",
              "        100.82  ,  95.23  ,  89.51  ,  82.84  ,  82.3   ,  83.76  ,\n",
              "         84.72  ,  83.91  ,  99.14  , 101.6   , 113.03  , 119.54  ,\n",
              "        118.09  , 107.32  ,  82.6   ,  77.4   ,  71.77  ,  71.25  ,\n",
              "         71.35  ,  73.62  ,  76.2   ,  74.15  ,  75.67  ,  79.2   ,\n",
              "         80.85  ,  85.33  ,  75.02  ,  77.95  ,  78.98  ,  76.55  ,\n",
              "         74.89  ,  70.    ,  81.53  ],\n",
              "       [ 62.55  ,  62.73  ,  63.43  ,  63.83  ,  66.06  ,  69.22  ,\n",
              "         72.07  ,  69.31  ,  65.18  ,  62.13  ,  64.17  ,  65.5   ,\n",
              "         66.85  ,  68.38  ,  68.77  ,  69.32  ,  69.77  ,  70.17  ,\n",
              "         70.76  ,  75.16  ,  74.86  ,  71.47  ,  76.08  ,  82.11  ,\n",
              "         94.63  ,  98.54  ,  97.84  ,  94.54  ,  97.88  ,  97.73  ,\n",
              "        100.89  , 104.88  , 104.39  , 101.9   ,  98.99  ,  99.42  ,\n",
              "        106.37  , 113.89  , 114.78  , 115.6   , 115.89  , 117.66  ,\n",
              "        118.27  , 114.19  , 101.81  ,  91.62  ,  90.15  ,  90.55  ,\n",
              "         92.3   ,  91.75  ,  92.    ,  92.57  , 100.28  , 114.33  ,\n",
              "        122.17  , 117.83  , 112.49  ,  93.7   ,  97.17  ,  95.64  ,\n",
              "        102.21  , 107.58  , 110.48  , 117.73  , 122.07  , 128.58  ,\n",
              "        131.12  , 127.08  , 110.99  ,  97.43  ,  92.05  ,  93.21  ,\n",
              "         98.58  , 100.23  , 102.09  , 101.73  , 107.28  , 115.35  ,\n",
              "        123.03  , 123.08  , 109.71  ,  97.22  ,  95.75  ,  97.09  ,\n",
              "         98.18  , 103.1   , 110.6   ],\n",
              "       [ 48.26  ,  51.01  ,  50.91  ,  53.94  ,  61.27  ,  65.44  ,\n",
              "         56.51  ,  53.    ,  43.87  ,  42.12  ,  43.98  ,  44.66  ,\n",
              "         47.73  ,  52.31  ,  56.8   ,  51.15  ,  54.63  ,  55.8   ,\n",
              "         57.31  ,  53.81  ,  55.5   ,  52.95  ,  53.29  ,  54.86  ,\n",
              "         71.72  ,  74.36  ,  78.25  ,  70.63  ,  77.06  ,  81.52  ,\n",
              "         84.12  ,  83.33  ,  66.98  ,  62.04  ,  59.79  ,  66.06  ,\n",
              "         71.99  ,  76.79  ,  80.98  ,  89.18  ,  92.71  ,  94.85  ,\n",
              "         99.18  ,  86.33  ,  71.94  ,  67.18  ,  62.98  ,  69.45  ,\n",
              "         67.56  ,  67.92  ,  68.4   ,  67.97  ,  76.33  ,  95.79  ,\n",
              "        112.36  ,  82.03  ,  73.83  ,  66.12  ,  63.24  ,  63.98  ,\n",
              "         69.1   ,  70.04  ,  80.03  ,  87.92  ,  97.07  , 106.52  ,\n",
              "        108.93  ,  95.17  ,  74.31  ,  62.63  ,  69.92  ,  70.58  ,\n",
              "         74.63  ,  78.69  ,  81.82  ,  82.36  ,  89.44  , 102.01  ,\n",
              "        116.12  ,  92.06  ,  82.7   ,  66.62  ,  68.11  ,  73.48  ,\n",
              "         82.04  ,  81.19  ,  95.05  ],\n",
              "       [ 71.25  ,  71.35  ,  70.9   ,  71.92  ,  72.91  ,  74.39  ,\n",
              "         73.1   ,  70.24  ,  69.12  ,  68.98  ,  68.58  ,  69.5   ,\n",
              "         70.14  ,  70.58  ,  70.78  ,  72.78  ,  72.84  ,  74.74  ,\n",
              "         76.43  ,  81.2   ,  82.04  ,  79.67  ,  81.25  ,  85.88  ,\n",
              "         91.35  , 101.32  , 102.45  ,  98.18  , 105.1   , 104.85  ,\n",
              "        111.48  , 118.51  , 118.92  , 109.87  , 105.22  , 105.45  ,\n",
              "        115.61  , 116.61  , 120.39  , 119.2   , 119.92  , 120.57  ,\n",
              "        123.37  , 121.39  , 118.16  , 108.84  , 100.78  ,  99.92  ,\n",
              "        100.65  ,  98.92  , 100.31  ,  96.41  , 101.24  , 118.7   ,\n",
              "        133.29  , 130.31  , 122.4   , 104.98  , 107.54  , 110.74  ,\n",
              "        110.51  , 111.46  , 113.42  , 118.15  , 114.    , 124.91  ,\n",
              "        126.06  , 123.3   , 111.61  ,  98.82  ,  97.47  , 103.01  ,\n",
              "        109.36  , 104.79  , 105.09  , 103.16  , 106.52  , 121.68  ,\n",
              "        125.32  , 123.41  , 108.48  ,  98.73  ,  96.25  , 100.12  ,\n",
              "        101.29  , 102.81  , 108.53  ]])"
            ]
          },
          "metadata": {},
          "execution_count": 5
        }
      ]
    },
    {
      "cell_type": "code",
      "source": [
        "dado.ndim\n",
        "#dados em 2 dimençoes(linhas e colunas)"
      ],
      "metadata": {
        "colab": {
          "base_uri": "https://localhost:8080/"
        },
        "id": "L8jSDs7g9M-b",
        "outputId": "16537ce6-0b47-4de4-f603-4e5140f752ae"
      },
      "execution_count": 6,
      "outputs": [
        {
          "output_type": "execute_result",
          "data": {
            "text/plain": [
              "2"
            ]
          },
          "metadata": {},
          "execution_count": 6
        }
      ]
    },
    {
      "cell_type": "code",
      "source": [
        "dado.size\n",
        "#qtd de dados"
      ],
      "metadata": {
        "colab": {
          "base_uri": "https://localhost:8080/"
        },
        "id": "L56DJTnD9ReD",
        "outputId": "5b1de4d6-8db9-4ea6-cedf-3a8c77de6107"
      },
      "execution_count": 7,
      "outputs": [
        {
          "output_type": "execute_result",
          "data": {
            "text/plain": [
              "522"
            ]
          },
          "metadata": {},
          "execution_count": 7
        }
      ]
    },
    {
      "cell_type": "code",
      "source": [
        "dado.shape\n",
        "#qtd de linhas e colunas"
      ],
      "metadata": {
        "colab": {
          "base_uri": "https://localhost:8080/"
        },
        "id": "fRL1IP3U9VA7",
        "outputId": "c2f8a10b-bb7e-40d3-c079-dafb73b74ee6"
      },
      "execution_count": 8,
      "outputs": [
        {
          "output_type": "execute_result",
          "data": {
            "text/plain": [
              "(6, 87)"
            ]
          },
          "metadata": {},
          "execution_count": 8
        }
      ]
    },
    {
      "cell_type": "code",
      "source": [
        "dado_transposto = dado.T"
      ],
      "metadata": {
        "id": "m9bRf3SU9oqt"
      },
      "execution_count": 9,
      "outputs": []
    },
    {
      "cell_type": "code",
      "source": [
        "datas = dado_transposto[:,0]\n",
        "datas"
      ],
      "metadata": {
        "colab": {
          "base_uri": "https://localhost:8080/"
        },
        "id": "Ljb6ILDmfMOS",
        "outputId": "33fdd36d-37ab-447c-ca23-993071973b0e"
      },
      "execution_count": 10,
      "outputs": [
        {
          "output_type": "execute_result",
          "data": {
            "text/plain": [
              "array([ 1.2013,  2.2013,  3.2013,  4.2013,  5.2013,  6.2013,  7.2013,\n",
              "        8.2013,  9.2013, 10.2013, 11.2013, 12.2013,  1.2014,  2.2014,\n",
              "        3.2014,  4.2014,  5.2014,  6.2014,  7.2014,  8.2014,  9.2014,\n",
              "       10.2014, 11.2014, 12.2014,  1.2015,  2.2015,  3.2015,  4.2015,\n",
              "        5.2015,  6.2015,  7.2015,  8.2015,  9.2015, 10.2015, 11.2015,\n",
              "       12.2015,  1.2016,  2.2016,  3.2016,  4.2016,  5.2016,  6.2016,\n",
              "        7.2016,  8.2016,  9.2016, 10.2016, 11.2016, 12.2016,  1.2017,\n",
              "        2.2017,  3.2017,  4.2017,  5.2017,  6.2017,  7.2017,  8.2017,\n",
              "        9.2017, 10.2017, 11.2017, 12.2017,  1.2018,  2.2018,  3.2018,\n",
              "        4.2018,  5.2018,  6.2018,  7.2018,  8.2018,  9.2018, 10.2018,\n",
              "       11.2018, 12.2018,  1.2019,  2.2019,  3.2019,  4.2019,  5.2019,\n",
              "        6.2019,  7.2019,  8.2019,  9.2019, 10.2019, 11.2019, 12.2019,\n",
              "        1.202 ,  2.202 ,  3.202 ])"
            ]
          },
          "metadata": {},
          "execution_count": 10
        }
      ]
    },
    {
      "cell_type": "code",
      "source": [
        "precos = dado_transposto[:,1:6]\n",
        "precos"
      ],
      "metadata": {
        "colab": {
          "base_uri": "https://localhost:8080/"
        },
        "id": "1QJhQWW-fl74",
        "outputId": "8e3baa71-a530-4827-843c-50603c649811"
      },
      "execution_count": 13,
      "outputs": [
        {
          "output_type": "execute_result",
          "data": {
            "text/plain": [
              "array([[ 79.72,  42.67,  62.55,  48.26,  71.25],\n",
              "       [ 81.08,  44.37,  62.73,  51.01,  71.35],\n",
              "       [ 79.68,  44.73,  63.43,  50.91,  70.9 ],\n",
              "       [ 79.8 ,  46.75,  63.83,  53.94,  71.92],\n",
              "       [ 80.63,    nan,  66.06,  61.27,  72.91],\n",
              "       [ 80.8 ,  51.59,  69.22,  65.44,  74.39],\n",
              "       [ 80.28,  57.8 ,  72.07,  56.51,  73.1 ],\n",
              "       [ 78.99,  62.14,  69.31,  53.  ,  70.24],\n",
              "       [ 76.77,  56.76,  65.18,  43.87,  69.12],\n",
              "       [ 76.09,  50.85,  62.13,  42.12,  68.98],\n",
              "       [ 76.36,  46.43,  64.17,  43.98,  68.58],\n",
              "       [ 77.16,  46.73,  65.5 ,  44.66,  69.5 ],\n",
              "       [ 77.5 ,  45.85,  66.85,  47.73,  70.14],\n",
              "       [ 79.03,  49.25,  68.38,  52.31,  70.58],\n",
              "       [ 80.28,  48.14,  68.77,  56.8 ,  70.78],\n",
              "       [ 80.05,  49.18,  69.32,  51.15,  72.78],\n",
              "       [ 78.11,  49.49,  69.77,  54.63,  72.84],\n",
              "       [ 76.9 ,  49.83,  70.17,  55.8 ,  74.74],\n",
              "       [ 77.68,  49.14,  70.76,  57.31,  76.43],\n",
              "       [ 76.05,  63.21,  75.16,  53.81,  81.2 ],\n",
              "       [ 75.53,  61.2 ,  74.86,  55.5 ,  82.04],\n",
              "       [ 73.39,  60.34,  71.47,  52.95,  79.67],\n",
              "       [ 78.36,  62.2 ,  76.08,  53.29,  81.25],\n",
              "       [ 89.16,  74.2 ,  82.11,  54.86,  85.88],\n",
              "       [105.43,  75.32,  94.63,  71.72,  91.35],\n",
              "       [104.82,  75.92,  98.54,  74.36, 101.32],\n",
              "       [101.15,  72.89,  97.84,  78.25, 102.45],\n",
              "       [ 98.63,  74.85,  94.54,  70.63,  98.18],\n",
              "       [ 99.96,  92.19,  97.88,  77.06, 105.1 ],\n",
              "       [ 97.29,  99.7 ,  97.73,  81.52, 104.85],\n",
              "       [ 98.64, 102.78, 100.89,  84.12, 111.48],\n",
              "       [104.26,  92.67, 104.88,  83.33, 118.51],\n",
              "       [102.63,  90.63, 104.39,  66.98, 118.92],\n",
              "       [ 98.64,  83.31, 101.9 ,  62.04, 109.87],\n",
              "       [ 97.17,  75.5 ,  98.99,  59.79, 105.22],\n",
              "       [ 98.09,  74.6 ,  99.42,  66.06, 105.45],\n",
              "       [103.07,  76.94, 106.37,  71.99, 115.61],\n",
              "       [110.26,  83.04, 113.89,  76.79, 116.61],\n",
              "       [110.84,  80.74, 114.78,  80.98, 120.39],\n",
              "       [112.28,  80.29, 115.6 ,  89.18, 119.2 ],\n",
              "       [111.1 ,  82.82, 115.89,  92.71, 119.92],\n",
              "       [110.06,  86.29, 117.66,  94.85, 120.57],\n",
              "       [113.7 ,  87.41, 118.27,  99.18, 123.37],\n",
              "       [112.88,  85.1 , 114.19,  86.33, 121.39],\n",
              "       [102.08,  78.08, 101.81,  71.94, 118.16],\n",
              "       [ 95.54,  76.06,  91.62,  67.18, 108.84],\n",
              "       [ 91.33,  69.23,  90.15,  62.98, 100.78],\n",
              "       [ 89.99,  69.04,  90.55,  69.45,  99.92],\n",
              "       [ 91.44,  64.48,  92.3 ,  67.56, 100.65],\n",
              "       [ 93.51,  65.73,  91.75,  67.92,  98.92],\n",
              "       [ 93.6 ,  67.2 ,  92.  ,  68.4 , 100.31],\n",
              "       [ 93.78,  70.25,  92.57,  67.97,  96.41],\n",
              "       [ 98.91,  82.59, 100.28,  76.33, 101.24],\n",
              "       [121.76,  92.12, 114.33,  95.79, 118.7 ],\n",
              "       [129.6 , 100.82, 122.17, 112.36, 133.29],\n",
              "       [127.9 ,  95.23, 117.83,  82.03, 130.31],\n",
              "       [114.55,  89.51, 112.49,  73.83, 122.4 ],\n",
              "       [101.88,  82.84,  93.7 ,  66.12, 104.98],\n",
              "       [ 99.09,  82.3 ,  97.17,  63.24, 107.54],\n",
              "       [103.35,  83.76,  95.64,  63.98, 110.74],\n",
              "       [106.58,  84.72, 102.21,  69.1 , 110.51],\n",
              "       [108.  ,  83.91, 107.58,  70.04, 111.46],\n",
              "       [114.95,  99.14, 110.48,  80.03, 113.42],\n",
              "       [121.17, 101.6 , 117.73,  87.92, 118.15],\n",
              "       [122.48, 113.03, 122.07,  97.07, 114.  ],\n",
              "       [127.58, 119.54, 128.58, 106.52, 124.91],\n",
              "       [131.89, 118.09, 131.12, 108.93, 126.06],\n",
              "       [129.36, 107.32, 127.08,  95.17, 123.3 ],\n",
              "       [104.26,  82.6 , 110.99,  74.31, 111.61],\n",
              "       [ 93.45,  77.4 ,  97.43,  62.63,  98.82],\n",
              "       [ 92.93,  71.77,  92.05,  69.92,  97.47],\n",
              "       [ 96.15,  71.25,  93.21,  70.58, 103.01],\n",
              "       [ 99.1 ,  71.35,  98.58,  74.63, 109.36],\n",
              "       [103.  ,  73.62, 100.23,  78.69, 104.79],\n",
              "       [103.31,  76.2 , 102.09,  81.82, 105.09],\n",
              "       [103.01,  74.15, 101.73,  82.36, 103.16],\n",
              "       [107.37,  75.67, 107.28,  89.44, 106.52],\n",
              "       [116.91,  79.2 , 115.35, 102.01, 121.68],\n",
              "       [125.29,  80.85, 123.03, 116.12, 125.32],\n",
              "       [123.94,  85.33, 123.08,  92.06, 123.41],\n",
              "       [113.03,  75.02, 109.71,  82.7 , 108.48],\n",
              "       [102.19,  77.95,  97.22,  66.62,  98.73],\n",
              "       [ 97.83,  78.98,  95.75,  68.11,  96.25],\n",
              "       [101.07,  76.55,  97.09,  73.48, 100.12],\n",
              "       [103.44,  74.89,  98.18,  82.04, 101.29],\n",
              "       [108.23,  70.  , 103.1 ,  81.19, 102.81],\n",
              "       [110.28,  81.53, 110.6 ,  95.05, 108.53]])"
            ]
          },
          "metadata": {},
          "execution_count": 13
        }
      ]
    },
    {
      "cell_type": "code",
      "source": [
        "import matplotlib.pyplot as plt\n",
        "datas = np.arange(1,88,1)\n",
        "plt.plot(datas,precos[:,0])"
      ],
      "metadata": {
        "colab": {
          "base_uri": "https://localhost:8080/",
          "height": 448
        },
        "id": "_dyyFZ_cgET6",
        "outputId": "9664a655-58e5-4f38-97f8-357e4f1d1eaf"
      },
      "execution_count": 14,
      "outputs": [
        {
          "output_type": "execute_result",
          "data": {
            "text/plain": [
              "[<matplotlib.lines.Line2D at 0x7bd4a36fb790>]"
            ]
          },
          "metadata": {},
          "execution_count": 14
        },
        {
          "output_type": "display_data",
          "data": {
            "text/plain": [
              "<Figure size 640x480 with 1 Axes>"
            ],
            "image/png": "[encoded data removed]"
          },
          "metadata": {}
        }
      ]
    },
    {
      "cell_type": "code",
      "source": [
        "Moscow = precos[:,0]\n",
        "Kaliningrad = precos[:,1]\n",
        "Petersburg = precos[:,2]\n",
        "Krasnodar = precos[:,3]\n",
        "Ekaterinburg = precos[:,4]"
      ],
      "metadata": {
        "id": "LC5vrfFggOEZ"
      },
      "execution_count": 15,
      "outputs": []
    },
    {
      "cell_type": "code",
      "source": [
        "Moscow"
      ],
      "metadata": {
        "colab": {
          "base_uri": "https://localhost:8080/"
        },
        "id": "bQmimrabhlma",
        "outputId": "54447e11-afab-44f1-e29b-4fa3c8e24901"
      },
      "execution_count": null,
      "outputs": [
        {
          "output_type": "execute_result",
          "data": {
            "text/plain": [
              "array([ 79.72,  81.08,  79.68,  79.8 ,  80.63,  80.8 ,  80.28,  78.99,\n",
              "        76.77,  76.09,  76.36,  77.16,  77.5 ,  79.03,  80.28,  80.05,\n",
              "        78.11,  76.9 ,  77.68,  76.05,  75.53,  73.39,  78.36,  89.16,\n",
              "       105.43, 104.82, 101.15,  98.63,  99.96,  97.29,  98.64, 104.26,\n",
              "       102.63,  98.64,  97.17,  98.09, 103.07, 110.26, 110.84, 112.28,\n",
              "       111.1 , 110.06, 113.7 , 112.88, 102.08,  95.54,  91.33,  89.99,\n",
              "        91.44,  93.51,  93.6 ,  93.78,  98.91, 121.76, 129.6 , 127.9 ,\n",
              "       114.55, 101.88,  99.09, 103.35, 106.58, 108.  , 114.95, 121.17,\n",
              "       122.48, 127.58, 131.89, 129.36, 104.26,  93.45,  92.93,  96.15,\n",
              "        99.1 , 103.  , 103.31, 103.01, 107.37, 116.91, 125.29, 123.94,\n",
              "       113.03, 102.19,  97.83, 101.07, 103.44, 108.23, 110.28])"
            ]
          },
          "metadata": {},
          "execution_count": 24
        }
      ]
    },
    {
      "cell_type": "code",
      "source": [
        "Moscow.shape\n",
        "#arraw unidimensional"
      ],
      "metadata": {
        "id": "UfhPtqBChre-",
        "colab": {
          "base_uri": "https://localhost:8080/"
        },
        "outputId": "7b87fe8c-5bc7-486b-e228-8b8fddffad02"
      },
      "execution_count": 16,
      "outputs": [
        {
          "output_type": "execute_result",
          "data": {
            "text/plain": [
              "(87,)"
            ]
          },
          "metadata": {},
          "execution_count": 16
        }
      ]
    },
    {
      "cell_type": "code",
      "source": [
        "Moscow_1ano = Moscow[0:12]\n",
        "Moscow_2ano = Moscow[12:24]\n",
        "Moscow_3ano = Moscow[24:36]\n",
        "Moscow_4ano = Moscow[36:48]"
      ],
      "metadata": {
        "id": "f6pF48tsFLJJ"
      },
      "execution_count": 17,
      "outputs": []
    },
    {
      "cell_type": "code",
      "source": [
        "plt.plot(np.arange(1,13,1),Moscow_1ano)\n",
        "plt.plot(np.arange(1,13,1),Moscow_2ano)\n",
        "plt.plot(np.arange(1,13,1),Moscow_3ano)\n",
        "plt.plot(np.arange(1,13,1),Moscow_4ano)\n",
        "plt.legend(['1 ano','2 ano','3 ano','4 ano'])\n"
      ],
      "metadata": {
        "colab": {
          "base_uri": "https://localhost:8080/",
          "height": 448
        },
        "id": "-FZniTitF8vp",
        "outputId": "07645e3e-be91-4749-e050-3e7e826f5d37"
      },
      "execution_count": 20,
      "outputs": [
        {
          "output_type": "execute_result",
          "data": {
            "text/plain": [
              "<matplotlib.legend.Legend at 0x7bd475487b90>"
            ]
          },
          "metadata": {},
          "execution_count": 20
        },
        {
          "output_type": "display_data",
          "data": {
            "text/plain": [
              "<Figure size 640x480 with 1 Axes>"
            ],
            "image/png": "[encoded data removed]"
          },
          "metadata": {}
        }
      ]
    },
    {
      "cell_type": "code",
      "source": [
        "np.array_equal(Moscow_3ano,Moscow_4ano)\n",
        "#verifica se é igual"
      ],
      "metadata": {
        "colab": {
          "base_uri": "https://localhost:8080/"
        },
        "id": "oNR3lrNQGCXe",
        "outputId": "e6e3692b-79db-4b1e-a035-170f9a799c71"
      },
      "execution_count": 22,
      "outputs": [
        {
          "output_type": "execute_result",
          "data": {
            "text/plain": [
              "False"
            ]
          },
          "metadata": {},
          "execution_count": 22
        }
      ]
    },
    {
      "cell_type": "code",
      "source": [
        "np.allclose(Moscow_3ano,Moscow_4ano, 10)\n",
        "#verifica se a diferença é maior que 10"
      ],
      "metadata": {
        "colab": {
          "base_uri": "https://localhost:8080/"
        },
        "id": "Ea1r8aKSGjDZ",
        "outputId": "a1c5238e-f3f9-4f87-c752-39e54884e4d9"
      },
      "execution_count": 25,
      "outputs": [
        {
          "output_type": "execute_result",
          "data": {
            "text/plain": [
              "True"
            ]
          },
          "metadata": {},
          "execution_count": 25
        }
      ]
    },
    {
      "cell_type": "markdown",
      "source": [
        "Tratando dado"
      ],
      "metadata": {
        "id": "aP6FMjSHKiBe"
      }
    },
    {
      "cell_type": "code",
      "source": [
        "plt.plot(datas,Kaliningrad)"
      ],
      "metadata": {
        "colab": {
          "base_uri": "https://localhost:8080/",
          "height": 448
        },
        "id": "J7fOXI1nG0aZ",
        "outputId": "d5caa7ee-e016-428f-d64d-7a70e6159151"
      },
      "execution_count": 26,
      "outputs": [
        {
          "output_type": "execute_result",
          "data": {
            "text/plain": [
              "[<matplotlib.lines.Line2D at 0x7bd4756cc250>]"
            ]
          },
          "metadata": {},
          "execution_count": 26
        },
        {
          "output_type": "display_data",
          "data": {
            "text/plain": [
              "<Figure size 640x480 with 1 Axes>"
            ],
            "image/png": "[encoded data removed]"
          },
          "metadata": {}
        }
      ]
    },
    {
      "cell_type": "code",
      "source": [
        "Kaliningrad"
      ],
      "metadata": {
        "colab": {
          "base_uri": "https://localhost:8080/"
        },
        "id": "M7VkmQ9gKfk1",
        "outputId": "81377efd-8fcd-4a69-b4bf-18e2d19d8167"
      },
      "execution_count": 27,
      "outputs": [
        {
          "output_type": "execute_result",
          "data": {
            "text/plain": [
              "array([ 42.67,  44.37,  44.73,  46.75,    nan,  51.59,  57.8 ,  62.14,\n",
              "        56.76,  50.85,  46.43,  46.73,  45.85,  49.25,  48.14,  49.18,\n",
              "        49.49,  49.83,  49.14,  63.21,  61.2 ,  60.34,  62.2 ,  74.2 ,\n",
              "        75.32,  75.92,  72.89,  74.85,  92.19,  99.7 , 102.78,  92.67,\n",
              "        90.63,  83.31,  75.5 ,  74.6 ,  76.94,  83.04,  80.74,  80.29,\n",
              "        82.82,  86.29,  87.41,  85.1 ,  78.08,  76.06,  69.23,  69.04,\n",
              "        64.48,  65.73,  67.2 ,  70.25,  82.59,  92.12, 100.82,  95.23,\n",
              "        89.51,  82.84,  82.3 ,  83.76,  84.72,  83.91,  99.14, 101.6 ,\n",
              "       113.03, 119.54, 118.09, 107.32,  82.6 ,  77.4 ,  71.77,  71.25,\n",
              "        71.35,  73.62,  76.2 ,  74.15,  75.67,  79.2 ,  80.85,  85.33,\n",
              "        75.02,  77.95,  78.98,  76.55,  74.89,  70.  ,  81.53])"
            ]
          },
          "metadata": {},
          "execution_count": 27
        }
      ]
    },
    {
      "cell_type": "code",
      "source": [
        "np.isnan(Kaliningrad)"
      ],
      "metadata": {
        "colab": {
          "base_uri": "https://localhost:8080/"
        },
        "id": "lkLoL0GrKqDC",
        "outputId": "b2055cb5-8631-4638-ee53-6885da9c4849"
      },
      "execution_count": 28,
      "outputs": [
        {
          "output_type": "execute_result",
          "data": {
            "text/plain": [
              "array([False, False, False, False,  True, False, False, False, False,\n",
              "       False, False, False, False, False, False, False, False, False,\n",
              "       False, False, False, False, False, False, False, False, False,\n",
              "       False, False, False, False, False, False, False, False, False,\n",
              "       False, False, False, False, False, False, False, False, False,\n",
              "       False, False, False, False, False, False, False, False, False,\n",
              "       False, False, False, False, False, False, False, False, False,\n",
              "       False, False, False, False, False, False, False, False, False,\n",
              "       False, False, False, False, False, False, False, False, False,\n",
              "       False, False, False, False, False, False])"
            ]
          },
          "metadata": {},
          "execution_count": 28
        }
      ]
    },
    {
      "cell_type": "code",
      "source": [
        "sum(np.isnan(Kaliningrad))\n",
        "#true=1 false=0"
      ],
      "metadata": {
        "colab": {
          "base_uri": "https://localhost:8080/"
        },
        "id": "XOnnZSMAKwnF",
        "outputId": "20b139ee-7d6c-456f-82f9-c6ccea6a774d"
      },
      "execution_count": 31,
      "outputs": [
        {
          "output_type": "execute_result",
          "data": {
            "text/plain": [
              "np.int64(1)"
            ]
          },
          "metadata": {},
          "execution_count": 31
        }
      ]
    },
    {
      "cell_type": "code",
      "source": [
        "(Kaliningrad[3]+Kaliningrad[5])/2"
      ],
      "metadata": {
        "colab": {
          "base_uri": "https://localhost:8080/"
        },
        "id": "vCXia5zIKyQv",
        "outputId": "35ec47fc-5801-469f-9c2c-7d55b591f6ee"
      },
      "execution_count": 32,
      "outputs": [
        {
          "output_type": "execute_result",
          "data": {
            "text/plain": [
              "np.float64(49.17)"
            ]
          },
          "metadata": {},
          "execution_count": 32
        }
      ]
    },
    {
      "cell_type": "code",
      "source": [
        "np.mean([Kaliningrad[3],Kaliningrad[5]])"
      ],
      "metadata": {
        "colab": {
          "base_uri": "https://localhost:8080/"
        },
        "id": "z2GmPg5ZLKmZ",
        "outputId": "41ffda7c-3607-4677-a558-192f136b1987"
      },
      "execution_count": 34,
      "outputs": [
        {
          "output_type": "execute_result",
          "data": {
            "text/plain": [
              "np.float64(49.17)"
            ]
          },
          "metadata": {},
          "execution_count": 34
        }
      ]
    },
    {
      "cell_type": "code",
      "source": [
        "Kaliningrad[4] = np.mean([Kaliningrad[3],Kaliningrad[5]])"
      ],
      "metadata": {
        "id": "XvUXFM-vLQV9"
      },
      "execution_count": 35,
      "outputs": []
    },
    {
      "cell_type": "code",
      "source": [
        "plt.plot(datas,Kaliningrad)"
      ],
      "metadata": {
        "colab": {
          "base_uri": "https://localhost:8080/",
          "height": 448
        },
        "id": "wSg7bhXiLgJo",
        "outputId": "64f430bf-74b9-4d46-f7bb-016def63f0e3"
      },
      "execution_count": 36,
      "outputs": [
        {
          "output_type": "execute_result",
          "data": {
            "text/plain": [
              "[<matplotlib.lines.Line2D at 0x7bd4726f1310>]"
            ]
          },
          "metadata": {},
          "execution_count": 36
        },
        {
          "output_type": "display_data",
          "data": {
            "text/plain": [
              "<Figure size 640x480 with 1 Axes>"
            ],
            "image/png": "[encoded data removed]"
          },
          "metadata": {}
        }
      ]
    },
    {
      "cell_type": "code",
      "source": [
        "np.mean(Kaliningrad)"
      ],
      "metadata": {
        "colab": {
          "base_uri": "https://localhost:8080/"
        },
        "id": "ALfB_i7cLjX4",
        "outputId": "8d7ffe00-340c-4513-f66b-62d78adba0ed"
      },
      "execution_count": 37,
      "outputs": [
        {
          "output_type": "execute_result",
          "data": {
            "text/plain": [
              "np.float64(74.5506896551724)"
            ]
          },
          "metadata": {},
          "execution_count": 37
        }
      ]
    },
    {
      "cell_type": "code",
      "source": [
        "np.mean(Moscow)"
      ],
      "metadata": {
        "colab": {
          "base_uri": "https://localhost:8080/"
        },
        "id": "HJGd9sxCLnji",
        "outputId": "05a73f36-a985-4f59-af27-e82be029b418"
      },
      "execution_count": 38,
      "outputs": [
        {
          "output_type": "execute_result",
          "data": {
            "text/plain": [
              "np.float64(98.79781609195402)"
            ]
          },
          "metadata": {},
          "execution_count": 38
        }
      ]
    },
    {
      "cell_type": "code",
      "source": [],
      "metadata": {
        "id": "VhztuMfdLtA0"
      },
      "execution_count": null,
      "outputs": []
    }
  ]
}