{
  "nbformat": 4,
  "nbformat_minor": 0,
  "metadata": {
    "colab": {
      "provenance": [],
      "authorship_tag": "ABX9TyMbTdeF4ZD+cFKgBTwbkeNa",
      "include_colab_link": true
    },
    "kernelspec": {
      "name": "python3",
      "display_name": "Python 3"
    },
    "language_info": {
      "name": "python"
    }
  },
  "cells": [
    {
      "cell_type": "markdown",
      "metadata": {
        "id": "view-in-github",
        "colab_type": "text"
      },
      "source": [
        "<a href=\"https://colab.research.google.com/github/xavierbruno/colab-data-science/blob/master/Alura_Pratica.ipynb\" target=\"_parent\"><img src=\"https://colab.research.google.com/assets/colab-badge.svg\" alt=\"Open In Colab\"/></a>"
      ]
    },
    {
      "cell_type": "code",
      "execution_count": 3,
      "metadata": {
        "colab": {
          "base_uri": "https://localhost:8080/"
        },
        "id": "8IoH7Z9alakF",
        "outputId": "a73294ba-dae0-46c4-b8ac-12dc265c9d2e"
      },
      "outputs": [
        {
          "output_type": "stream",
          "name": "stdout",
          "text": [
            "Digite a nota 1: 6\n",
            "Digite a nota 2: 8\n",
            "Média: 7.0\n",
            "Digite a nota 1: 9\n",
            "Digite a nota 2: 10\n",
            "Média: 9.5\n",
            "Digite a nota 1: 4\n",
            "Digite a nota 2: 7\n",
            "Média: 5.5\n"
          ]
        }
      ],
      "source": [
        "contador = 1\n",
        "while contador <= 3:\n",
        "  nota_1 = float(input('Digite a nota 1: '))\n",
        "  nota_2 = float(input('Digite a nota 2: '))\n",
        "\n",
        "  print(f'Média: {(nota_1+nota_2)/2}')\n",
        "  contador += 1"
      ]
    },
    {
      "cell_type": "code",
      "source": [
        "for contador in range (1,4):\n",
        "  nota_1 = float(input('Digite a nota 1: '))\n",
        "  nota_2 = float(input('Digite a nota 2: '))\n",
        "\n",
        "  print(f'Média: {(nota_1+nota_2)/2}')"
      ],
      "metadata": {
        "colab": {
          "base_uri": "https://localhost:8080/"
        },
        "id": "Zx7ZFlsoFerh",
        "outputId": "65740bde-8470-40b6-d422-37b4d6e314df"
      },
      "execution_count": 5,
      "outputs": [
        {
          "output_type": "stream",
          "name": "stdout",
          "text": [
            "Digite a nota 1: 3\n",
            "Digite a nota 2: 8\n",
            "Média: 5.5\n",
            "Digite a nota 1: 2\n",
            "Digite a nota 2: 10\n",
            "Média: 6.0\n",
            "Digite a nota 1: 3\n",
            "Digite a nota 2: 9\n",
            "Média: 6.0\n"
          ]
        }
      ]
    },
    {
      "cell_type": "code",
      "source": [
        "duvida = 'Quem veio antes? O ovo? Ou foi a serpente?'\n",
        "lista_palavras = duvida.split('?')\n",
        "print(lista_palavras)"
      ],
      "metadata": {
        "colab": {
          "base_uri": "https://localhost:8080/"
        },
        "id": "bT8J2X_5Nyrc",
        "outputId": "b77c58e6-a159-44bc-df88-160c969e99fa"
      },
      "execution_count": 6,
      "outputs": [
        {
          "output_type": "stream",
          "name": "stdout",
          "text": [
            "['Quem veio antes', ' O ovo', ' Ou foi a serpente', '']\n"
          ]
        }
      ]
    },
    {
      "cell_type": "code",
      "source": [
        "misturas = ['Tintas: vermelho, azul e amarelo',\n",
        "            'Verde: mistura de azul e amarelo',\n",
        "            'Laranja: mistura de vermelho e amarelo',\n",
        "            'Roxo: mistura de vermelho e azul']\n",
        "unificador = '. '\n",
        "string_misturas = unificador.join(misturas)\n",
        "print(string_misturas)"
      ],
      "metadata": {
        "colab": {
          "base_uri": "https://localhost:8080/"
        },
        "id": "WQXhg4WDN0qA",
        "outputId": "dab86bb3-de8e-4724-95f0-4dcd37e1e836"
      },
      "execution_count": 7,
      "outputs": [
        {
          "output_type": "stream",
          "name": "stdout",
          "text": [
            "Tintas: vermelho, azul e amarelo. Verde: mistura de azul e amarelo. Laranja: mistura de vermelho e amarelo. Roxo: mistura de vermelho e azul\n"
          ]
        }
      ]
    },
    {
      "cell_type": "code",
      "source": [],
      "metadata": {
        "id": "u-4Phy21N3DG"
      },
      "execution_count": null,
      "outputs": []
    }
  ]
}