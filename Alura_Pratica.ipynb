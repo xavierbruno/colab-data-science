{
  "nbformat": 4,
  "nbformat_minor": 0,
  "metadata": {
    "colab": {
      "provenance": [],
      "authorship_tag": "ABX9TyN5YuyO2Q/7b5+rkQmNP2qd",
      "include_colab_link": true
    },
    "kernelspec": {
      "name": "python3",
      "display_name": "Python 3"
    },
    "language_info": {
      "name": "python"
    }
  },
  "cells": [
    {
      "cell_type": "markdown",
      "metadata": {
        "id": "view-in-github",
        "colab_type": "text"
      },
      "source": [
        "<a href=\"https://colab.research.google.com/github/xavierbruno/colab-data-science/blob/master/Alura_Pratica.ipynb\" target=\"_parent\"><img src=\"https://colab.research.google.com/assets/colab-badge.svg\" alt=\"Open In Colab\"/></a>"
      ]
    },
    {
      "cell_type": "code",
      "execution_count": 3,
      "metadata": {
        "colab": {
          "base_uri": "https://localhost:8080/"
        },
        "id": "8IoH7Z9alakF",
        "outputId": "a73294ba-dae0-46c4-b8ac-12dc265c9d2e"
      },
      "outputs": [
        {
          "output_type": "stream",
          "name": "stdout",
          "text": [
            "Digite a nota 1: 6\n",
            "Digite a nota 2: 8\n",
            "Média: 7.0\n",
            "Digite a nota 1: 9\n",
            "Digite a nota 2: 10\n",
            "Média: 9.5\n",
            "Digite a nota 1: 4\n",
            "Digite a nota 2: 7\n",
            "Média: 5.5\n"
          ]
        }
      ],
      "source": [
        "contador = 1\n",
        "while contador <= 3:\n",
        "  nota_1 = float(input('Digite a nota 1: '))\n",
        "  nota_2 = float(input('Digite a nota 2: '))\n",
        "\n",
        "  print(f'Média: {(nota_1+nota_2)/2}')\n",
        "  contador += 1"
      ]
    },
    {
      "cell_type": "code",
      "source": [
        "for contador in range (1,4):\n",
        "  nota_1 = float(input('Digite a nota 1: '))\n",
        "  nota_2 = float(input('Digite a nota 2: '))\n",
        "\n",
        "  print(f'Média: {(nota_1+nota_2)/2}')"
      ],
      "metadata": {
        "colab": {
          "base_uri": "https://localhost:8080/"
        },
        "id": "Zx7ZFlsoFerh",
        "outputId": "65740bde-8470-40b6-d422-37b4d6e314df"
      },
      "execution_count": 5,
      "outputs": [
        {
          "output_type": "stream",
          "name": "stdout",
          "text": [
            "Digite a nota 1: 3\n",
            "Digite a nota 2: 8\n",
            "Média: 5.5\n",
            "Digite a nota 1: 2\n",
            "Digite a nota 2: 10\n",
            "Média: 6.0\n",
            "Digite a nota 1: 3\n",
            "Digite a nota 2: 9\n",
            "Média: 6.0\n"
          ]
        }
      ]
    }
  ]
}