{
  "nbformat": 4,
  "nbformat_minor": 0,
  "metadata": {
    "colab": {
      "provenance": [],
      "authorship_tag": "ABX9TyMNRyhkHWu2heRhuFApJ17N",
      "include_colab_link": true
    },
    "kernelspec": {
      "name": "python3",
      "display_name": "Python 3"
    },
    "language_info": {
      "name": "python"
    }
  },
  "cells": [
    {
      "cell_type": "markdown",
      "metadata": {
        "id": "view-in-github",
        "colab_type": "text"
      },
      "source": [
        "<a href=\"https://colab.research.google.com/github/xavierbruno/colab-data-science/blob/master/Alura_Pratica.ipynb\" target=\"_parent\"><img src=\"https://colab.research.google.com/assets/colab-badge.svg\" alt=\"Open In Colab\"/></a>"
      ]
    },
    {
      "cell_type": "code",
      "execution_count": null,
      "metadata": {
        "colab": {
          "base_uri": "https://localhost:8080/"
        },
        "id": "8IoH7Z9alakF",
        "outputId": "a73294ba-dae0-46c4-b8ac-12dc265c9d2e"
      },
      "outputs": [
        {
          "output_type": "stream",
          "name": "stdout",
          "text": [
            "Digite a nota 1: 6\n",
            "Digite a nota 2: 8\n",
            "Média: 7.0\n",
            "Digite a nota 1: 9\n",
            "Digite a nota 2: 10\n",
            "Média: 9.5\n",
            "Digite a nota 1: 4\n",
            "Digite a nota 2: 7\n",
            "Média: 5.5\n"
          ]
        }
      ],
      "source": [
        "contador = 1\n",
        "while contador <= 3:\n",
        "  nota_1 = float(input('Digite a nota 1: '))\n",
        "  nota_2 = float(input('Digite a nota 2: '))\n",
        "\n",
        "  print(f'Média: {(nota_1+nota_2)/2}')\n",
        "  contador += 1"
      ]
    },
    {
      "cell_type": "code",
      "source": [
        "for contador in range (1,4):\n",
        "  nota_1 = float(input('Digite a nota 1: '))\n",
        "  nota_2 = float(input('Digite a nota 2: '))\n",
        "\n",
        "  print(f'Média: {(nota_1+nota_2)/2}')"
      ],
      "metadata": {
        "colab": {
          "base_uri": "https://localhost:8080/"
        },
        "id": "Zx7ZFlsoFerh",
        "outputId": "65740bde-8470-40b6-d422-37b4d6e314df"
      },
      "execution_count": null,
      "outputs": [
        {
          "output_type": "stream",
          "name": "stdout",
          "text": [
            "Digite a nota 1: 3\n",
            "Digite a nota 2: 8\n",
            "Média: 5.5\n",
            "Digite a nota 1: 2\n",
            "Digite a nota 2: 10\n",
            "Média: 6.0\n",
            "Digite a nota 1: 3\n",
            "Digite a nota 2: 9\n",
            "Média: 6.0\n"
          ]
        }
      ]
    },
    {
      "cell_type": "code",
      "source": [
        "duvida = 'Quem veio antes? O ovo? Ou foi a serpente?'\n",
        "lista_palavras = duvida.split('?')\n",
        "print(lista_palavras)"
      ],
      "metadata": {
        "colab": {
          "base_uri": "https://localhost:8080/"
        },
        "id": "bT8J2X_5Nyrc",
        "outputId": "b77c58e6-a159-44bc-df88-160c969e99fa"
      },
      "execution_count": null,
      "outputs": [
        {
          "output_type": "stream",
          "name": "stdout",
          "text": [
            "['Quem veio antes', ' O ovo', ' Ou foi a serpente', '']\n"
          ]
        }
      ]
    },
    {
      "cell_type": "code",
      "source": [
        "misturas = ['Tintas: vermelho, azul e amarelo',\n",
        "            'Verde: mistura de azul e amarelo',\n",
        "            'Laranja: mistura de vermelho e amarelo',\n",
        "            'Roxo: mistura de vermelho e azul']\n",
        "unificador = '. '\n",
        "string_misturas = unificador.join(misturas)\n",
        "print(string_misturas)"
      ],
      "metadata": {
        "colab": {
          "base_uri": "https://localhost:8080/"
        },
        "id": "WQXhg4WDN0qA",
        "outputId": "dab86bb3-de8e-4724-95f0-4dcd37e1e836"
      },
      "execution_count": null,
      "outputs": [
        {
          "output_type": "stream",
          "name": "stdout",
          "text": [
            "Tintas: vermelho, azul e amarelo. Verde: mistura de azul e amarelo. Laranja: mistura de vermelho e amarelo. Roxo: mistura de vermelho e azul\n"
          ]
        }
      ]
    },
    {
      "cell_type": "code",
      "source": [
        "len(misturas)"
      ],
      "metadata": {
        "colab": {
          "base_uri": "https://localhost:8080/"
        },
        "id": "u-4Phy21N3DG",
        "outputId": "9367fa08-6210-4149-d9e5-062afea703e9"
      },
      "execution_count": null,
      "outputs": [
        {
          "output_type": "execute_result",
          "data": {
            "text/plain": [
              "4"
            ]
          },
          "metadata": {},
          "execution_count": 8
        }
      ]
    },
    {
      "cell_type": "code",
      "source": [
        "misturas[1:4]"
      ],
      "metadata": {
        "colab": {
          "base_uri": "https://localhost:8080/"
        },
        "id": "YLUQDOOjP0Od",
        "outputId": "bae917c9-862e-4fbf-d318-cc1055a6375b"
      },
      "execution_count": null,
      "outputs": [
        {
          "output_type": "execute_result",
          "data": {
            "text/plain": [
              "['Verde: mistura de azul e amarelo',\n",
              " 'Laranja: mistura de vermelho e amarelo',\n",
              " 'Roxo: mistura de vermelho e azul']"
            ]
          },
          "metadata": {},
          "execution_count": 9
        }
      ]
    },
    {
      "cell_type": "code",
      "source": [
        "misturas[2:]"
      ],
      "metadata": {
        "colab": {
          "base_uri": "https://localhost:8080/"
        },
        "id": "oHaifZkmP92E",
        "outputId": "dc99f208-11c5-4db8-c10b-125a48ed51e1"
      },
      "execution_count": null,
      "outputs": [
        {
          "output_type": "execute_result",
          "data": {
            "text/plain": [
              "['Laranja: mistura de vermelho e amarelo', 'Roxo: mistura de vermelho e azul']"
            ]
          },
          "metadata": {},
          "execution_count": 10
        }
      ]
    },
    {
      "cell_type": "code",
      "source": [
        "misturas.append(duvida)\n",
        "misturas"
      ],
      "metadata": {
        "colab": {
          "base_uri": "https://localhost:8080/"
        },
        "id": "iHV8ptXQQCZC",
        "outputId": "c19e044d-8e6f-4d04-9ab9-f1b43293897e"
      },
      "execution_count": null,
      "outputs": [
        {
          "output_type": "execute_result",
          "data": {
            "text/plain": [
              "['Tintas: vermelho, azul e amarelo',\n",
              " 'Verde: mistura de azul e amarelo',\n",
              " 'Laranja: mistura de vermelho e amarelo',\n",
              " 'Roxo: mistura de vermelho e azul',\n",
              " 'Quem veio antes? O ovo? Ou foi a serpente?',\n",
              " 'Quem veio antes? O ovo? Ou foi a serpente?']"
            ]
          },
          "metadata": {},
          "execution_count": 12
        }
      ]
    },
    {
      "cell_type": "code",
      "source": [
        "misturas.remove('Quem veio antes? O ovo? Ou foi a serpente?')"
      ],
      "metadata": {
        "id": "vx0G_7Q4QPUv"
      },
      "execution_count": null,
      "outputs": []
    },
    {
      "cell_type": "code",
      "source": [
        "misturas"
      ],
      "metadata": {
        "colab": {
          "base_uri": "https://localhost:8080/"
        },
        "id": "yP2831lYQcXa",
        "outputId": "ff04b7c2-2624-4b77-8fec-2be0e94c1569"
      },
      "execution_count": null,
      "outputs": [
        {
          "output_type": "execute_result",
          "data": {
            "text/plain": [
              "['Tintas: vermelho, azul e amarelo',\n",
              " 'Verde: mistura de azul e amarelo',\n",
              " 'Laranja: mistura de vermelho e amarelo',\n",
              " 'Roxo: mistura de vermelho e azul',\n",
              " 'Quem veio antes? O ovo? Ou foi a serpente?']"
            ]
          },
          "metadata": {},
          "execution_count": 14
        }
      ]
    },
    {
      "cell_type": "code",
      "source": [
        "lista = [True, 9.3,'fluminense']\n",
        "misturas.extend(lista)\n",
        "misturas"
      ],
      "metadata": {
        "colab": {
          "base_uri": "https://localhost:8080/"
        },
        "id": "CrvCIeOWQePn",
        "outputId": "0f87d006-64a5-40c8-d5ec-e5d26840bc63"
      },
      "execution_count": null,
      "outputs": [
        {
          "output_type": "execute_result",
          "data": {
            "text/plain": [
              "['Tintas: vermelho, azul e amarelo',\n",
              " 'Verde: mistura de azul e amarelo',\n",
              " 'Laranja: mistura de vermelho e amarelo',\n",
              " 'Roxo: mistura de vermelho e azul',\n",
              " 'Quem veio antes? O ovo? Ou foi a serpente?',\n",
              " True,\n",
              " 9.3,\n",
              " 'fluminense']"
            ]
          },
          "metadata": {},
          "execution_count": 16
        }
      ]
    },
    {
      "cell_type": "code",
      "source": [
        "misturas.append(lista)\n",
        "misturas"
      ],
      "metadata": {
        "colab": {
          "base_uri": "https://localhost:8080/"
        },
        "id": "hpidIWIQQ3oc",
        "outputId": "95886332-aa8b-4ca5-a00c-9bb0bdbf1b63"
      },
      "execution_count": null,
      "outputs": [
        {
          "output_type": "execute_result",
          "data": {
            "text/plain": [
              "['Tintas: vermelho, azul e amarelo',\n",
              " 'Verde: mistura de azul e amarelo',\n",
              " 'Laranja: mistura de vermelho e amarelo',\n",
              " 'Roxo: mistura de vermelho e azul',\n",
              " 'Quem veio antes? O ovo? Ou foi a serpente?',\n",
              " True,\n",
              " 9.3,\n",
              " 'fluminense',\n",
              " [True, 9.3, 'fluminense']]"
            ]
          },
          "metadata": {},
          "execution_count": 17
        }
      ]
    },
    {
      "cell_type": "code",
      "source": [
        "raca_caes = ['Labrador Retriever',\n",
        "             'Bulldog Francês',\n",
        "             'Pastor Alemão',\n",
        "             'Poodle']\n",
        "raca_caes.insert(1, 'Golden Retriever')\n",
        "raca_caes\n"
      ],
      "metadata": {
        "id": "4runIDvDRrI1",
        "colab": {
          "base_uri": "https://localhost:8080/"
        },
        "outputId": "9a5904c7-7013-4b6b-d810-81c4a7a3fb1e"
      },
      "execution_count": 1,
      "outputs": [
        {
          "output_type": "execute_result",
          "data": {
            "text/plain": [
              "['Labrador Retriever',\n",
              " 'Golden Retriever',\n",
              " 'Bulldog Francês',\n",
              " 'Pastor Alemão',\n",
              " 'Poodle']"
            ]
          },
          "metadata": {},
          "execution_count": 1
        }
      ]
    },
    {
      "cell_type": "code",
      "source": [
        "raca_caes.pop(1)\n",
        "raca_caes"
      ],
      "metadata": {
        "colab": {
          "base_uri": "https://localhost:8080/"
        },
        "id": "Ri45Kz-409OM",
        "outputId": "431027a5-738f-4e88-ecd7-b01d52a1f0a3"
      },
      "execution_count": 2,
      "outputs": [
        {
          "output_type": "execute_result",
          "data": {
            "text/plain": [
              "['Labrador Retriever', 'Bulldog Francês', 'Pastor Alemão', 'Poodle']"
            ]
          },
          "metadata": {},
          "execution_count": 2
        }
      ]
    },
    {
      "cell_type": "code",
      "source": [
        "raca_caes.index('Pastor Alemão')"
      ],
      "metadata": {
        "colab": {
          "base_uri": "https://localhost:8080/"
        },
        "id": "2emEz0aS1Mzm",
        "outputId": "1f6cb0ab-c4e1-44cc-e2df-ee26da246230"
      },
      "execution_count": 3,
      "outputs": [
        {
          "output_type": "execute_result",
          "data": {
            "text/plain": [
              "2"
            ]
          },
          "metadata": {},
          "execution_count": 3
        }
      ]
    },
    {
      "cell_type": "code",
      "source": [
        "raca_caes.sort() #ordem alfabetica\n",
        "raca_caes"
      ],
      "metadata": {
        "colab": {
          "base_uri": "https://localhost:8080/"
        },
        "id": "lHQqUJcy1Nra",
        "outputId": "252bcd69-236e-4ea1-9e7b-8b461eb47540"
      },
      "execution_count": 5,
      "outputs": [
        {
          "output_type": "execute_result",
          "data": {
            "text/plain": [
              "['Bulldog Francês', 'Labrador Retriever', 'Pastor Alemão', 'Poodle']"
            ]
          },
          "metadata": {},
          "execution_count": 5
        }
      ]
    },
    {
      "cell_type": "code",
      "source": [],
      "metadata": {
        "id": "a-WCRt781RT9"
      },
      "execution_count": null,
      "outputs": []
    }
  ]
}