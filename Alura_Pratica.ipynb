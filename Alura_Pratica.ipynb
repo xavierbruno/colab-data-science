{
  "nbformat": 4,
  "nbformat_minor": 0,
  "metadata": {
    "colab": {
      "provenance": [],
      "authorship_tag": "ABX9TyOZJc/yaNaf+BwXoRWwbxAD",
      "include_colab_link": true
    },
    "kernelspec": {
      "name": "python3",
      "display_name": "Python 3"
    },
    "language_info": {
      "name": "python"
    }
  },
  "cells": [
    {
      "cell_type": "markdown",
      "metadata": {
        "id": "view-in-github",
        "colab_type": "text"
      },
      "source": [
        "<a href=\"https://colab.research.google.com/github/xavierbruno/colab-data-science/blob/master/Alura_Pratica.ipynb\" target=\"_parent\"><img src=\"https://colab.research.google.com/assets/colab-badge.svg\" alt=\"Open In Colab\"/></a>"
      ]
    },
    {
      "cell_type": "code",
      "execution_count": null,
      "metadata": {
        "colab": {
          "base_uri": "https://localhost:8080/"
        },
        "id": "8IoH7Z9alakF",
        "outputId": "a73294ba-dae0-46c4-b8ac-12dc265c9d2e"
      },
      "outputs": [
        {
          "output_type": "stream",
          "name": "stdout",
          "text": [
            "Digite a nota 1: 6\n",
            "Digite a nota 2: 8\n",
            "Média: 7.0\n",
            "Digite a nota 1: 9\n",
            "Digite a nota 2: 10\n",
            "Média: 9.5\n",
            "Digite a nota 1: 4\n",
            "Digite a nota 2: 7\n",
            "Média: 5.5\n"
          ]
        }
      ],
      "source": [
        "contador = 1\n",
        "while contador <= 3:\n",
        "  nota_1 = float(input('Digite a nota 1: '))\n",
        "  nota_2 = float(input('Digite a nota 2: '))\n",
        "\n",
        "  print(f'Média: {(nota_1+nota_2)/2}')\n",
        "  contador += 1"
      ]
    },
    {
      "cell_type": "code",
      "source": [
        "for contador in range (1,4):\n",
        "  nota_1 = float(input('Digite a nota 1: '))\n",
        "  nota_2 = float(input('Digite a nota 2: '))\n",
        "\n",
        "  print(f'Média: {(nota_1+nota_2)/2}')"
      ],
      "metadata": {
        "colab": {
          "base_uri": "https://localhost:8080/"
        },
        "id": "Zx7ZFlsoFerh",
        "outputId": "65740bde-8470-40b6-d422-37b4d6e314df"
      },
      "execution_count": null,
      "outputs": [
        {
          "output_type": "stream",
          "name": "stdout",
          "text": [
            "Digite a nota 1: 3\n",
            "Digite a nota 2: 8\n",
            "Média: 5.5\n",
            "Digite a nota 1: 2\n",
            "Digite a nota 2: 10\n",
            "Média: 6.0\n",
            "Digite a nota 1: 3\n",
            "Digite a nota 2: 9\n",
            "Média: 6.0\n"
          ]
        }
      ]
    },
    {
      "cell_type": "code",
      "source": [
        "duvida = 'Quem veio antes? O ovo? Ou foi a serpente?'\n",
        "lista_palavras = duvida.split('?')\n",
        "print(lista_palavras)"
      ],
      "metadata": {
        "colab": {
          "base_uri": "https://localhost:8080/"
        },
        "id": "bT8J2X_5Nyrc",
        "outputId": "b77c58e6-a159-44bc-df88-160c969e99fa"
      },
      "execution_count": null,
      "outputs": [
        {
          "output_type": "stream",
          "name": "stdout",
          "text": [
            "['Quem veio antes', ' O ovo', ' Ou foi a serpente', '']\n"
          ]
        }
      ]
    },
    {
      "cell_type": "code",
      "source": [
        "misturas = ['Tintas: vermelho, azul e amarelo',\n",
        "            'Verde: mistura de azul e amarelo',\n",
        "            'Laranja: mistura de vermelho e amarelo',\n",
        "            'Roxo: mistura de vermelho e azul']\n",
        "unificador = '. '\n",
        "string_misturas = unificador.join(misturas)\n",
        "print(string_misturas)"
      ],
      "metadata": {
        "colab": {
          "base_uri": "https://localhost:8080/"
        },
        "id": "WQXhg4WDN0qA",
        "outputId": "dab86bb3-de8e-4724-95f0-4dcd37e1e836"
      },
      "execution_count": null,
      "outputs": [
        {
          "output_type": "stream",
          "name": "stdout",
          "text": [
            "Tintas: vermelho, azul e amarelo. Verde: mistura de azul e amarelo. Laranja: mistura de vermelho e amarelo. Roxo: mistura de vermelho e azul\n"
          ]
        }
      ]
    },
    {
      "cell_type": "code",
      "source": [
        "len(misturas)"
      ],
      "metadata": {
        "colab": {
          "base_uri": "https://localhost:8080/"
        },
        "id": "u-4Phy21N3DG",
        "outputId": "9367fa08-6210-4149-d9e5-062afea703e9"
      },
      "execution_count": null,
      "outputs": [
        {
          "output_type": "execute_result",
          "data": {
            "text/plain": [
              "4"
            ]
          },
          "metadata": {},
          "execution_count": 8
        }
      ]
    },
    {
      "cell_type": "code",
      "source": [
        "misturas[1:4]"
      ],
      "metadata": {
        "colab": {
          "base_uri": "https://localhost:8080/"
        },
        "id": "YLUQDOOjP0Od",
        "outputId": "bae917c9-862e-4fbf-d318-cc1055a6375b"
      },
      "execution_count": null,
      "outputs": [
        {
          "output_type": "execute_result",
          "data": {
            "text/plain": [
              "['Verde: mistura de azul e amarelo',\n",
              " 'Laranja: mistura de vermelho e amarelo',\n",
              " 'Roxo: mistura de vermelho e azul']"
            ]
          },
          "metadata": {},
          "execution_count": 9
        }
      ]
    },
    {
      "cell_type": "code",
      "source": [
        "misturas[2:]"
      ],
      "metadata": {
        "colab": {
          "base_uri": "https://localhost:8080/"
        },
        "id": "oHaifZkmP92E",
        "outputId": "dc99f208-11c5-4db8-c10b-125a48ed51e1"
      },
      "execution_count": null,
      "outputs": [
        {
          "output_type": "execute_result",
          "data": {
            "text/plain": [
              "['Laranja: mistura de vermelho e amarelo', 'Roxo: mistura de vermelho e azul']"
            ]
          },
          "metadata": {},
          "execution_count": 10
        }
      ]
    },
    {
      "cell_type": "code",
      "source": [
        "misturas.append(duvida)\n",
        "misturas"
      ],
      "metadata": {
        "colab": {
          "base_uri": "https://localhost:8080/"
        },
        "id": "iHV8ptXQQCZC",
        "outputId": "c19e044d-8e6f-4d04-9ab9-f1b43293897e"
      },
      "execution_count": null,
      "outputs": [
        {
          "output_type": "execute_result",
          "data": {
            "text/plain": [
              "['Tintas: vermelho, azul e amarelo',\n",
              " 'Verde: mistura de azul e amarelo',\n",
              " 'Laranja: mistura de vermelho e amarelo',\n",
              " 'Roxo: mistura de vermelho e azul',\n",
              " 'Quem veio antes? O ovo? Ou foi a serpente?',\n",
              " 'Quem veio antes? O ovo? Ou foi a serpente?']"
            ]
          },
          "metadata": {},
          "execution_count": 12
        }
      ]
    },
    {
      "cell_type": "code",
      "source": [
        "misturas.remove('Quem veio antes? O ovo? Ou foi a serpente?')"
      ],
      "metadata": {
        "id": "vx0G_7Q4QPUv"
      },
      "execution_count": null,
      "outputs": []
    },
    {
      "cell_type": "code",
      "source": [
        "misturas"
      ],
      "metadata": {
        "colab": {
          "base_uri": "https://localhost:8080/"
        },
        "id": "yP2831lYQcXa",
        "outputId": "ff04b7c2-2624-4b77-8fec-2be0e94c1569"
      },
      "execution_count": null,
      "outputs": [
        {
          "output_type": "execute_result",
          "data": {
            "text/plain": [
              "['Tintas: vermelho, azul e amarelo',\n",
              " 'Verde: mistura de azul e amarelo',\n",
              " 'Laranja: mistura de vermelho e amarelo',\n",
              " 'Roxo: mistura de vermelho e azul',\n",
              " 'Quem veio antes? O ovo? Ou foi a serpente?']"
            ]
          },
          "metadata": {},
          "execution_count": 14
        }
      ]
    },
    {
      "cell_type": "code",
      "source": [
        "lista = [True, 9.3,'fluminense']\n",
        "misturas.extend(lista)\n",
        "misturas"
      ],
      "metadata": {
        "colab": {
          "base_uri": "https://localhost:8080/"
        },
        "id": "CrvCIeOWQePn",
        "outputId": "0f87d006-64a5-40c8-d5ec-e5d26840bc63"
      },
      "execution_count": null,
      "outputs": [
        {
          "output_type": "execute_result",
          "data": {
            "text/plain": [
              "['Tintas: vermelho, azul e amarelo',\n",
              " 'Verde: mistura de azul e amarelo',\n",
              " 'Laranja: mistura de vermelho e amarelo',\n",
              " 'Roxo: mistura de vermelho e azul',\n",
              " 'Quem veio antes? O ovo? Ou foi a serpente?',\n",
              " True,\n",
              " 9.3,\n",
              " 'fluminense']"
            ]
          },
          "metadata": {},
          "execution_count": 16
        }
      ]
    },
    {
      "cell_type": "code",
      "source": [
        "misturas.append(lista)\n",
        "misturas"
      ],
      "metadata": {
        "colab": {
          "base_uri": "https://localhost:8080/"
        },
        "id": "hpidIWIQQ3oc",
        "outputId": "95886332-aa8b-4ca5-a00c-9bb0bdbf1b63"
      },
      "execution_count": null,
      "outputs": [
        {
          "output_type": "execute_result",
          "data": {
            "text/plain": [
              "['Tintas: vermelho, azul e amarelo',\n",
              " 'Verde: mistura de azul e amarelo',\n",
              " 'Laranja: mistura de vermelho e amarelo',\n",
              " 'Roxo: mistura de vermelho e azul',\n",
              " 'Quem veio antes? O ovo? Ou foi a serpente?',\n",
              " True,\n",
              " 9.3,\n",
              " 'fluminense',\n",
              " [True, 9.3, 'fluminense']]"
            ]
          },
          "metadata": {},
          "execution_count": 17
        }
      ]
    },
    {
      "cell_type": "code",
      "source": [
        "raca_caes = ['Labrador Retriever',\n",
        "             'Bulldog Francês',\n",
        "             'Pastor Alemão',\n",
        "             'Poodle']\n",
        "raca_caes.insert(1, 'Golden Retriever')\n",
        "raca_caes\n"
      ],
      "metadata": {
        "id": "4runIDvDRrI1",
        "colab": {
          "base_uri": "https://localhost:8080/"
        },
        "outputId": "9a5904c7-7013-4b6b-d810-81c4a7a3fb1e"
      },
      "execution_count": 1,
      "outputs": [
        {
          "output_type": "execute_result",
          "data": {
            "text/plain": [
              "['Labrador Retriever',\n",
              " 'Golden Retriever',\n",
              " 'Bulldog Francês',\n",
              " 'Pastor Alemão',\n",
              " 'Poodle']"
            ]
          },
          "metadata": {},
          "execution_count": 1
        }
      ]
    },
    {
      "cell_type": "code",
      "source": [
        "raca_caes.pop(1)\n",
        "raca_caes"
      ],
      "metadata": {
        "colab": {
          "base_uri": "https://localhost:8080/"
        },
        "id": "Ri45Kz-409OM",
        "outputId": "431027a5-738f-4e88-ecd7-b01d52a1f0a3"
      },
      "execution_count": 2,
      "outputs": [
        {
          "output_type": "execute_result",
          "data": {
            "text/plain": [
              "['Labrador Retriever', 'Bulldog Francês', 'Pastor Alemão', 'Poodle']"
            ]
          },
          "metadata": {},
          "execution_count": 2
        }
      ]
    },
    {
      "cell_type": "code",
      "source": [
        "raca_caes.index('Pastor Alemão')"
      ],
      "metadata": {
        "colab": {
          "base_uri": "https://localhost:8080/"
        },
        "id": "2emEz0aS1Mzm",
        "outputId": "1f6cb0ab-c4e1-44cc-e2df-ee26da246230"
      },
      "execution_count": 3,
      "outputs": [
        {
          "output_type": "execute_result",
          "data": {
            "text/plain": [
              "2"
            ]
          },
          "metadata": {},
          "execution_count": 3
        }
      ]
    },
    {
      "cell_type": "code",
      "source": [
        "raca_caes.sort() #ordem alfabetica\n",
        "raca_caes"
      ],
      "metadata": {
        "colab": {
          "base_uri": "https://localhost:8080/"
        },
        "id": "lHQqUJcy1Nra",
        "outputId": "252bcd69-236e-4ea1-9e7b-8b461eb47540"
      },
      "execution_count": 5,
      "outputs": [
        {
          "output_type": "execute_result",
          "data": {
            "text/plain": [
              "['Bulldog Francês', 'Labrador Retriever', 'Pastor Alemão', 'Poodle']"
            ]
          },
          "metadata": {},
          "execution_count": 5
        }
      ]
    },
    {
      "cell_type": "code",
      "source": [
        "cadastro = {'matricula': 2000168933,\n",
        "            'dia_cadastro': 25,\n",
        "            'mes_cadastro': 10,\n",
        "            'turma': '2E'}\n",
        "cadastro"
      ],
      "metadata": {
        "colab": {
          "base_uri": "https://localhost:8080/"
        },
        "id": "a-WCRt781RT9",
        "outputId": "686e89a6-d342-4798-9efc-f5ae5a40886c"
      },
      "execution_count": 6,
      "outputs": [
        {
          "output_type": "execute_result",
          "data": {
            "text/plain": [
              "{'matricula': 2000168933,\n",
              " 'dia_cadastro': 25,\n",
              " 'mes_cadastro': 10,\n",
              " 'turma': '2E'}"
            ]
          },
          "metadata": {},
          "execution_count": 6
        }
      ]
    },
    {
      "cell_type": "code",
      "source": [
        "cadastro.pop('turma') #alem de remover ele retorna o valor removido"
      ],
      "metadata": {
        "colab": {
          "base_uri": "https://localhost:8080/",
          "height": 35
        },
        "id": "X-bhjA0O5Se6",
        "outputId": "f62eb9ea-0d9d-4b77-e543-e476d1201e33"
      },
      "execution_count": 7,
      "outputs": [
        {
          "output_type": "execute_result",
          "data": {
            "text/plain": [
              "'2E'"
            ],
            "application/vnd.google.colaboratory.intrinsic+json": {
              "type": "string"
            }
          },
          "metadata": {},
          "execution_count": 7
        }
      ]
    },
    {
      "cell_type": "code",
      "source": [
        "#formas de vizualização\n",
        "cadastro"
      ],
      "metadata": {
        "colab": {
          "base_uri": "https://localhost:8080/"
        },
        "id": "sv9OGCDK5VNm",
        "outputId": "f634e012-0961-4c74-98d4-03cbf017c4c9"
      },
      "execution_count": 9,
      "outputs": [
        {
          "output_type": "execute_result",
          "data": {
            "text/plain": [
              "{'matricula': 2000168933, 'dia_cadastro': 25, 'mes_cadastro': 10}"
            ]
          },
          "metadata": {},
          "execution_count": 9
        }
      ]
    },
    {
      "cell_type": "code",
      "source": [
        "cadastro.items()"
      ],
      "metadata": {
        "colab": {
          "base_uri": "https://localhost:8080/"
        },
        "id": "iEfKEyvx5ust",
        "outputId": "26597f2a-bcfb-41d5-ad0a-b489491768c8"
      },
      "execution_count": 10,
      "outputs": [
        {
          "output_type": "execute_result",
          "data": {
            "text/plain": [
              "dict_items([('matricula', 2000168933), ('dia_cadastro', 25), ('mes_cadastro', 10)])"
            ]
          },
          "metadata": {},
          "execution_count": 10
        }
      ]
    },
    {
      "cell_type": "code",
      "source": [
        "cadastro.keys()"
      ],
      "metadata": {
        "colab": {
          "base_uri": "https://localhost:8080/"
        },
        "id": "BgWiYVFf51tq",
        "outputId": "7b4adee1-0a6d-4693-ba97-e3e8a2e5197a"
      },
      "execution_count": 11,
      "outputs": [
        {
          "output_type": "execute_result",
          "data": {
            "text/plain": [
              "dict_keys(['matricula', 'dia_cadastro', 'mes_cadastro'])"
            ]
          },
          "metadata": {},
          "execution_count": 11
        }
      ]
    },
    {
      "cell_type": "code",
      "source": [
        "cadastro.values()"
      ],
      "metadata": {
        "colab": {
          "base_uri": "https://localhost:8080/"
        },
        "id": "uizLS2AT56Qm",
        "outputId": "5a9ef9ff-a440-4691-fac0-d38ce7cc02ae"
      },
      "execution_count": 12,
      "outputs": [
        {
          "output_type": "execute_result",
          "data": {
            "text/plain": [
              "dict_values([2000168933, 25, 10])"
            ]
          },
          "metadata": {},
          "execution_count": 12
        }
      ]
    },
    {
      "cell_type": "code",
      "source": [
        "#trabalhando com for\n",
        "for chaves in cadastro.keys():\n",
        "  print(cadastro[chaves])"
      ],
      "metadata": {
        "colab": {
          "base_uri": "https://localhost:8080/"
        },
        "id": "c2Ej3-to57bk",
        "outputId": "164af8e7-9bb4-4e0a-d1d9-5f0bcd24ea87"
      },
      "execution_count": 13,
      "outputs": [
        {
          "output_type": "stream",
          "name": "stdout",
          "text": [
            "2000168933\n",
            "25\n",
            "10\n"
          ]
        }
      ]
    },
    {
      "cell_type": "code",
      "source": [
        "for valores in cadastro.values():\n",
        "  print(valores)"
      ],
      "metadata": {
        "colab": {
          "base_uri": "https://localhost:8080/"
        },
        "id": "YdLoKbFg6Dft",
        "outputId": "f9c6a62a-5475-4655-8f70-2f7c989a4806"
      },
      "execution_count": 14,
      "outputs": [
        {
          "output_type": "stream",
          "name": "stdout",
          "text": [
            "2000168933\n",
            "25\n",
            "10\n"
          ]
        }
      ]
    },
    {
      "cell_type": "code",
      "source": [
        "for chaves, valores in cadastro.items():\n",
        "  print(chaves, valores)"
      ],
      "metadata": {
        "colab": {
          "base_uri": "https://localhost:8080/"
        },
        "id": "OoC4cDgK6GDH",
        "outputId": "bf0b5aca-c3ea-4c41-dfb6-baee23156ced"
      },
      "execution_count": 15,
      "outputs": [
        {
          "output_type": "stream",
          "name": "stdout",
          "text": [
            "matricula 2000168933\n",
            "dia_cadastro 25\n",
            "mes_cadastro 10\n"
          ]
        }
      ]
    },
    {
      "cell_type": "code",
      "source": [
        "loja = {'nomes': ['televisão', 'celular', 'notebook', 'geladeira', 'fogão'],\n",
        "        'precos': [2000, 1500, 3500, 4000, 1500]}\n",
        "loja"
      ],
      "metadata": {
        "colab": {
          "base_uri": "https://localhost:8080/"
        },
        "id": "iFsKlZob6ItQ",
        "outputId": "11de68a1-27a5-4d9d-dbf6-a978e0873087"
      },
      "execution_count": 17,
      "outputs": [
        {
          "output_type": "execute_result",
          "data": {
            "text/plain": [
              "{'nomes': ['televisão', 'celular', 'notebook', 'geladeira', 'fogão'],\n",
              " 'precos': [2000, 1500, 3500, 4000, 1500]}"
            ]
          },
          "metadata": {},
          "execution_count": 17
        }
      ]
    },
    {
      "cell_type": "code",
      "source": [
        "for chave, elementos in loja.items():\n",
        "  print(f'Chave: {chave}\\nElementos:')\n",
        "  for dado in elementos:\n",
        "    print(dado)"
      ],
      "metadata": {
        "colab": {
          "base_uri": "https://localhost:8080/"
        },
        "id": "m7xZ5qsE6tb0",
        "outputId": "d1ac34c6-4a72-450d-ce2e-442127dc728e"
      },
      "execution_count": 18,
      "outputs": [
        {
          "output_type": "stream",
          "name": "stdout",
          "text": [
            "Chave: nomes\n",
            "Elementos:\n",
            "televisão\n",
            "celular\n",
            "notebook\n",
            "geladeira\n",
            "fogão\n",
            "Chave: precos\n",
            "Elementos:\n",
            "2000\n",
            "1500\n",
            "3500\n",
            "4000\n",
            "1500\n"
          ]
        }
      ]
    },
    {
      "cell_type": "code",
      "source": [
        "precos = [100.0, 400.0, 200.0]\n",
        "soma = sum(precos)\n",
        "soma"
      ],
      "metadata": {
        "colab": {
          "base_uri": "https://localhost:8080/"
        },
        "id": "zLbUA6Oj691L",
        "outputId": "cf9a3a47-7d01-4f1d-de81-6595a4ce3f70"
      },
      "execution_count": 19,
      "outputs": [
        {
          "output_type": "execute_result",
          "data": {
            "text/plain": [
              "700.0"
            ]
          },
          "metadata": {},
          "execution_count": 19
        }
      ]
    },
    {
      "cell_type": "code",
      "source": [
        "help(print)"
      ],
      "metadata": {
        "colab": {
          "base_uri": "https://localhost:8080/"
        },
        "id": "SUIG2mT070gm",
        "outputId": "161decc5-9652-4bd6-a6d0-57af47359dcd"
      },
      "execution_count": 20,
      "outputs": [
        {
          "output_type": "stream",
          "name": "stdout",
          "text": [
            "Help on built-in function print in module builtins:\n",
            "\n",
            "print(*args, sep=' ', end='\\n', file=None, flush=False)\n",
            "    Prints the values to a stream, or to sys.stdout by default.\n",
            "    \n",
            "    sep\n",
            "      string inserted between values, default a space.\n",
            "    end\n",
            "      string appended after the last value, default a newline.\n",
            "    file\n",
            "      a file-like object (stream); defaults to the current sys.stdout.\n",
            "    flush\n",
            "      whether to forcibly flush the stream.\n",
            "\n"
          ]
        }
      ]
    },
    {
      "cell_type": "code",
      "source": [
        "lista = [1,2,3]\n",
        "dir(lista)"
      ],
      "metadata": {
        "colab": {
          "base_uri": "https://localhost:8080/"
        },
        "id": "QyXDn_tZ74hN",
        "outputId": "ae6e48ec-7f2e-4633-aae2-97b8d0d44550"
      },
      "execution_count": 21,
      "outputs": [
        {
          "output_type": "execute_result",
          "data": {
            "text/plain": [
              "['__add__',\n",
              " '__class__',\n",
              " '__class_getitem__',\n",
              " '__contains__',\n",
              " '__delattr__',\n",
              " '__delitem__',\n",
              " '__dir__',\n",
              " '__doc__',\n",
              " '__eq__',\n",
              " '__format__',\n",
              " '__ge__',\n",
              " '__getattribute__',\n",
              " '__getitem__',\n",
              " '__getstate__',\n",
              " '__gt__',\n",
              " '__hash__',\n",
              " '__iadd__',\n",
              " '__imul__',\n",
              " '__init__',\n",
              " '__init_subclass__',\n",
              " '__iter__',\n",
              " '__le__',\n",
              " '__len__',\n",
              " '__lt__',\n",
              " '__mul__',\n",
              " '__ne__',\n",
              " '__new__',\n",
              " '__reduce__',\n",
              " '__reduce_ex__',\n",
              " '__repr__',\n",
              " '__reversed__',\n",
              " '__rmul__',\n",
              " '__setattr__',\n",
              " '__setitem__',\n",
              " '__sizeof__',\n",
              " '__str__',\n",
              " '__subclasshook__',\n",
              " 'append',\n",
              " 'clear',\n",
              " 'copy',\n",
              " 'count',\n",
              " 'extend',\n",
              " 'index',\n",
              " 'insert',\n",
              " 'pop',\n",
              " 'remove',\n",
              " 'reverse',\n",
              " 'sort']"
            ]
          },
          "metadata": {},
          "execution_count": 21
        }
      ]
    },
    {
      "cell_type": "code",
      "source": [],
      "metadata": {
        "id": "NDhs6hkS77TG"
      },
      "execution_count": null,
      "outputs": []
    }
  ]
}